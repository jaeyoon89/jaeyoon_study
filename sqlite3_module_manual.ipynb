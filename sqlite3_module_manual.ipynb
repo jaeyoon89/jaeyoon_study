{
 "cells": [
  {
   "cell_type": "markdown",
   "id": "missing-custody",
   "metadata": {},
   "source": [
    "# SQLITE3 모듈 사용하기"
   ]
  },
  {
   "cell_type": "markdown",
   "id": "located-black",
   "metadata": {},
   "source": [
    "## 1. SQLite 란?"
   ]
  },
  {
   "cell_type": "markdown",
   "id": "responsible-wrestling",
   "metadata": {},
   "source": [
    "SQLite는 별도의 서버 프로세스가 필요 없고 SQL 질의 언어의 비표준 변형을 사용하여 데이터베이스에 엑세스할 수 있는 경량 디스크 기반 데이터베이스를 제공하는 C라이브러리이다.\n",
    "SQLite는 별도의 복잡한 서버 설치가 필요 없고, 쉽고 편리하게 사용할 수 있다는 점에서 널리 사용되고 있다. 대부분의 Mac os나 리눅스에서는 SQLite을 기본적으로 내장하고 있지만, 만약 시스템에 내장되어 있지 않는 경우는 http://www.sqlite.org 에서 다운받아 설치할 수 있다. SQLite는 기본적으로 SQLite DB 엔진과 \"sqlite3\" 라는 Command line tool 을 갖고 있다.\n",
    "데이터 베이스를 .db 확장자를 가지는 단일 파일로 저장한다."
   ]
  },
  {
   "cell_type": "markdown",
   "id": "compound-albania",
   "metadata": {},
   "source": [
    "### -먼저 sqlite3를 임포트 하자."
   ]
  },
  {
   "cell_type": "code",
   "execution_count": 60,
   "id": "lucky-lighting",
   "metadata": {},
   "outputs": [],
   "source": [
    "import sqlite3"
   ]
  },
  {
   "cell_type": "code",
   "execution_count": 66,
   "id": "mathematical-barrel",
   "metadata": {},
   "outputs": [],
   "source": [
    "# 해당 empolyee.db로 연결한다.\n",
    "conn = sqlite3.connect(\"employee.db\") \n",
    "\n",
    "# conn.cursor를 통해 Cursor 하나를 생성한다.\n",
    "cur = conn.cursor() \n",
    "\n",
    "# conn.executemany를 통해 데이터를 insert 한다.\n",
    "cur.executemany( 'INSERT INTO employee_data VALUES (?, ?, ?, ?, ?)', \n",
    "                [(1001, 'Donghyun', 'SOMJANG', 'Development', '2020-04-01 00:00:00.000'), \n",
    "                 (2001, 'Sol', 'Fairy', 'Marketing', '2020-04-01 00:00:00.000'), \n",
    "                 (2002, 'Jiyoung', 'Magician', 'Marketing', '2020-04-01 00:00:00.000'), \n",
    "                 (1002, 'Hyeona', 'Theif', 'Development', '2020-04-01 00:00:00.000'), \n",
    "                 (1003, 'Soyoung', 'Chief', 'Development', '2020-04-01 00:00:00.000') ] )\n",
    "\n",
    "# conn.close를 통해 연결을 해제한다.\n",
    "conn.close()"
   ]
  },
  {
   "cell_type": "markdown",
   "id": "cubic-being",
   "metadata": {},
   "source": [
    "### - 모든 데이터 가져와서 출력하기."
   ]
  },
  {
   "cell_type": "code",
   "execution_count": 67,
   "id": "german-sense",
   "metadata": {},
   "outputs": [
    {
     "name": "stdout",
     "output_type": "stream",
     "text": [
      "(1001, 'Donghyun', 'SOMJANG', 'Development', '2020-04-01 00:00:00.000')\n",
      "(2001, 'Sol', 'Fairy', 'Marketing', '2020-04-01 00:00:00.000')\n",
      "(2002, 'Jiyoung', 'Magician', 'Marketing', '2020-04-01 00:00:00.000')\n",
      "(1002, 'Hyeona', 'Theif', 'Development', '2020-04-01 00:00:00.000')\n",
      "(1003, 'Soyoung', 'Chief', 'Development', '2020-04-01 00:00:00.000')\n"
     ]
    }
   ],
   "source": [
    "# 만약 employee.db가 없을 경우 새로 생성하면서 연결하게되고 employee.db가 이미 있을 경우 해당 db로 연결하게 된다.\n",
    "conn = sqlite3.connect(\"employee.db\")\n",
    "\n",
    "# cursor 하나를 생성한다.\n",
    "cur = conn.cursor()\n",
    "\n",
    "# cur.execute를 통해 SELECT 쿼리를 실행한다.\n",
    "cur.execute(\"SELECT * FROM employee_data\")\n",
    "\n",
    "# cur.execute를 통해 가져온 모든 결과의 행을 가져와 리스트로 가져온다.\n",
    "rows = cur.fetchall()\n",
    "\n",
    "# 가져온 데이터를 반복문을 통해 하나의 row씩 출력한다.\n",
    "for row in rows: \n",
    "    print(row)\n",
    "    \n",
    "# 연결을 해제한다.\n",
    "conn.close()"
   ]
  },
  {
   "cell_type": "markdown",
   "id": "previous-offset",
   "metadata": {},
   "source": [
    "여기서 원하는 값만 골라 출력하려면 cur.excute(\"SELET * FROM employee_data\") 안에 들어가는 쿼리만 변경하여 사용하면 된다."
   ]
  },
  {
   "cell_type": "markdown",
   "id": "funny-harvest",
   "metadata": {},
   "source": [
    "### - ex) employeed_data 테이블에서 id가 2000보다 큰 사람의 이름과 부서만 가져오기"
   ]
  },
  {
   "cell_type": "code",
   "execution_count": 68,
   "id": "technological-night",
   "metadata": {},
   "outputs": [
    {
     "name": "stdout",
     "output_type": "stream",
     "text": [
      "('Sol', 'Marketing')\n",
      "('Jiyoung', 'Marketing')\n"
     ]
    }
   ],
   "source": [
    "conn = sqlite3.connect(\"employee.db\")\n",
    "cur = conn.cursor()\n",
    "cur.execute(\"SELECT name, department FROM employee_data WHERE employee_data.id > 2000\")\n",
    "rows = cur.fetchall()\n",
    "for row in rows: \n",
    "    print(row)\n"
   ]
  },
  {
   "cell_type": "markdown",
   "id": "based-albania",
   "metadata": {},
   "source": [
    "### - ex) employeed_data 테이블에서 이름이 Donghyun인 사람의 닉네임만 가져오기"
   ]
  },
  {
   "cell_type": "code",
   "execution_count": 71,
   "id": "adjustable-night",
   "metadata": {},
   "outputs": [
    {
     "name": "stdout",
     "output_type": "stream",
     "text": [
      "('SOMJANG',)\n"
     ]
    }
   ],
   "source": [
    "conn = sqlite3.connect(\"employee.db\")\n",
    "cur = conn.cursor()\n",
    "cur.execute(\"SELECT nickname FROM employee_data WHERE employee_data.name == 'Donghyun'\")\n",
    "rows = cur.fetchall()\n",
    "for row in rows: \n",
    "    print(row)"
   ]
  },
  {
   "cell_type": "markdown",
   "id": "musical-updating",
   "metadata": {},
   "source": [
    "### - 모든 데이터를 가져와서 DataFrame 형태로 출력하기"
   ]
  },
  {
   "cell_type": "code",
   "execution_count": 70,
   "id": "stopped-rubber",
   "metadata": {},
   "outputs": [
    {
     "data": {
      "text/html": [
       "<div>\n",
       "<style scoped>\n",
       "    .dataframe tbody tr th:only-of-type {\n",
       "        vertical-align: middle;\n",
       "    }\n",
       "\n",
       "    .dataframe tbody tr th {\n",
       "        vertical-align: top;\n",
       "    }\n",
       "\n",
       "    .dataframe thead th {\n",
       "        text-align: right;\n",
       "    }\n",
       "</style>\n",
       "<table border=\"1\" class=\"dataframe\">\n",
       "  <thead>\n",
       "    <tr style=\"text-align: right;\">\n",
       "      <th></th>\n",
       "      <th>id</th>\n",
       "      <th>name</th>\n",
       "      <th>nickname</th>\n",
       "      <th>department</th>\n",
       "      <th>employment_date</th>\n",
       "    </tr>\n",
       "  </thead>\n",
       "  <tbody>\n",
       "    <tr>\n",
       "      <th>0</th>\n",
       "      <td>1001</td>\n",
       "      <td>Donghyun</td>\n",
       "      <td>SOMJANG</td>\n",
       "      <td>Development</td>\n",
       "      <td>2020-04-01 00:00:00.000</td>\n",
       "    </tr>\n",
       "    <tr>\n",
       "      <th>1</th>\n",
       "      <td>2001</td>\n",
       "      <td>Sol</td>\n",
       "      <td>Fairy</td>\n",
       "      <td>Marketing</td>\n",
       "      <td>2020-04-01 00:00:00.000</td>\n",
       "    </tr>\n",
       "    <tr>\n",
       "      <th>2</th>\n",
       "      <td>2002</td>\n",
       "      <td>Jiyoung</td>\n",
       "      <td>Magician</td>\n",
       "      <td>Marketing</td>\n",
       "      <td>2020-04-01 00:00:00.000</td>\n",
       "    </tr>\n",
       "    <tr>\n",
       "      <th>3</th>\n",
       "      <td>1002</td>\n",
       "      <td>Hyeona</td>\n",
       "      <td>Theif</td>\n",
       "      <td>Development</td>\n",
       "      <td>2020-04-01 00:00:00.000</td>\n",
       "    </tr>\n",
       "    <tr>\n",
       "      <th>4</th>\n",
       "      <td>1003</td>\n",
       "      <td>Soyoung</td>\n",
       "      <td>Chief</td>\n",
       "      <td>Development</td>\n",
       "      <td>2020-04-01 00:00:00.000</td>\n",
       "    </tr>\n",
       "  </tbody>\n",
       "</table>\n",
       "</div>"
      ],
      "text/plain": [
       "     id      name  nickname   department          employment_date\n",
       "0  1001  Donghyun   SOMJANG  Development  2020-04-01 00:00:00.000\n",
       "1  2001       Sol     Fairy    Marketing  2020-04-01 00:00:00.000\n",
       "2  2002   Jiyoung  Magician    Marketing  2020-04-01 00:00:00.000\n",
       "3  1002    Hyeona     Theif  Development  2020-04-01 00:00:00.000\n",
       "4  1003   Soyoung     Chief  Development  2020-04-01 00:00:00.000"
      ]
     },
     "execution_count": 70,
     "metadata": {},
     "output_type": "execute_result"
    }
   ],
   "source": [
    "# 먼저 DataFrame 사용하기 위해 pandas를 import 한다.\n",
    "import pandas as pd\n",
    "\n",
    "# employeed.db에 연결한다.\n",
    "conn = sqlite3.connect(\"employee.db\")\n",
    "\n",
    "# cursor를 생성한다.\n",
    "cur = conn.cursor()\n",
    "\n",
    "# cur.execute 를 통해 SELECT 쿼리를 실행한다.\n",
    "cur.execute(\"SELECT * FROM employee_data\")\n",
    "\n",
    "# 행 데이터를 가져온다.\n",
    "rows = cur.fetchall()\n",
    "\n",
    "# coulumns 이름을 가져온다.\n",
    "cols = [column[0] for column in cur.description]\n",
    "\n",
    "# 위의 코드를 활용해 DataFrame을 만들어준다.\n",
    "data_df = pd.DataFrame.from_records(data=rows, columns=cols)\n",
    "\n",
    "# 연결을 해제한다.\n",
    "conn.close()\n",
    "\n",
    "# 만든 DataFrame을 확인하자.\n",
    "data_df"
   ]
  },
  {
   "cell_type": "markdown",
   "id": "fixed-status",
   "metadata": {},
   "source": [
    "출처 : [솜씨좋은 장씨님 tistory](https://somjang.tistory.com/entry/Python-Python%EC%97%90%EC%84%9C-Sqlite3-%EC%82%AC%EC%9A%A9%ED%95%98%EA%B8%B0)"
   ]
  },
  {
   "cell_type": "code",
   "execution_count": null,
   "id": "imposed-coating",
   "metadata": {},
   "outputs": [],
   "source": []
  }
 ],
 "metadata": {
  "kernelspec": {
   "display_name": "Python 3",
   "language": "python",
   "name": "python3"
  },
  "language_info": {
   "codemirror_mode": {
    "name": "ipython",
    "version": 3
   },
   "file_extension": ".py",
   "mimetype": "text/x-python",
   "name": "python",
   "nbconvert_exporter": "python",
   "pygments_lexer": "ipython3",
   "version": "3.6.9"
  }
 },
 "nbformat": 4,
 "nbformat_minor": 5
}
