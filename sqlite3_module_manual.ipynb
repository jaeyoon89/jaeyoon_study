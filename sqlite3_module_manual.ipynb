{
 "cells": [
  {
   "cell_type": "markdown",
   "id": "missing-custody",
   "metadata": {},
   "source": [
    "# SQLITE3 모듈 사용하기"
   ]
  },
  {
   "cell_type": "markdown",
   "id": "located-black",
   "metadata": {},
   "source": [
    "## 1. SQLite 란?"
   ]
  },
  {
   "cell_type": "markdown",
   "id": "responsible-wrestling",
   "metadata": {},
   "source": [
    "SQLite는 별도의 서버 프로세스가 필요 없고 SQL 질의 언어의 비표준 변형을 사용하여 데이터베이스에 엑세스할 수 있는 경량 디스크 기반 데이터베이스를 제공하는 C라이브러리입니다.\n",
    "데이터 베이스를 .db 확장자를 가지는 단일 파일로 저장한다."
   ]
  },
  {
   "cell_type": "markdown",
   "id": "compound-albania",
   "metadata": {},
   "source": [
    "먼저 sqlite3를 임포트 하자."
   ]
  },
  {
   "cell_type": "code",
   "execution_count": 60,
   "id": "lucky-lighting",
   "metadata": {},
   "outputs": [],
   "source": [
    "import sqlite3"
   ]
  },
  {
   "cell_type": "code",
   "execution_count": null,
   "id": "mathematical-barrel",
   "metadata": {},
   "outputs": [],
   "source": [
    "conn = sqlite3.connect(\"employee.db\") \n",
    "cur = conn.cursor() \n",
    "cur.executemany( 'INSERT INTO employee_data VALUES (?, ?, ?, ?, ?)', \n",
    "                [(1001, 'Donghyun', 'SOMJANG', 'Development', '2020-04-01 00:00:00.000'), \n",
    "                 (2001, 'Sol', 'Fairy', 'Marketing', '2020-04-01 00:00:00.000'), \n",
    "                 (2002, 'Jiyoung', 'Magician', 'Marketing', '2020-04-01 00:00:00.000'), \n",
    "                 (1002, 'Hyeona', 'Theif', 'Development', '2020-04-01 00:00:00.000'), \n",
    "                 (1003, 'Soyoung', 'Chief', 'Development', '2020-04-01 00:00:00.000') ] )\n",
    "conn.commit()\n",
    "conn.close()"
   ]
  },
  {
   "cell_type": "code",
   "execution_count": 62,
   "id": "german-sense",
   "metadata": {},
   "outputs": [
    {
     "name": "stdout",
     "output_type": "stream",
     "text": [
      "(1001, 'Donghyun', 'SOMJANG', 'Development', '2020-04-01 00:00:00.000')\n",
      "(2001, 'Sol', 'Fairy', 'Marketing', '2020-04-01 00:00:00.000')\n",
      "(2002, 'Jiyoung', 'Magician', 'Marketing', '2020-04-01 00:00:00.000')\n",
      "(1002, 'Hyeona', 'Theif', 'Development', '2020-04-01 00:00:00.000')\n",
      "(1003, 'Soyoung', 'Chief', 'Development', '2020-04-01 00:00:00.000')\n"
     ]
    }
   ],
   "source": [
    "conn = sqlite3.connect(\"employee.db\")\n",
    "cur = conn.cursor()\n",
    "cur.execute(\"SELECT * FROM employee_data\")\n",
    "rows = cur.fetchall()\n",
    "for row in rows: \n",
    "    print(row)\n",
    "conn.close()"
   ]
  },
  {
   "cell_type": "code",
   "execution_count": 63,
   "id": "technological-night",
   "metadata": {},
   "outputs": [
    {
     "name": "stdout",
     "output_type": "stream",
     "text": [
      "('Sol', 'Marketing')\n",
      "('Jiyoung', 'Marketing')\n"
     ]
    }
   ],
   "source": [
    "conn = sqlite3.connect(\"employee.db\")\n",
    "cur = conn.cursor()\n",
    "cur.execute(\"SELECT name, department FROM employee_data WHERE employee_data.id > 2000\")\n",
    "rows = cur.fetchall()\n",
    "for row in rows: \n",
    "    print(row)\n"
   ]
  },
  {
   "cell_type": "code",
   "execution_count": 64,
   "id": "adjustable-night",
   "metadata": {},
   "outputs": [
    {
     "name": "stdout",
     "output_type": "stream",
     "text": [
      "('SOMJANG',)\n"
     ]
    }
   ],
   "source": [
    "conn = sqlite3.connect(\"employee.db\")\n",
    "cur = conn.cursor()\n",
    "cur.execute(\"SELECT nickname FROM employee_data WHERE employee_data.name == 'Donghyun'\")\n",
    "rows = cur.fetchall()\n",
    "for row in rows: \n",
    "    print(row)"
   ]
  },
  {
   "cell_type": "code",
   "execution_count": null,
   "id": "defensive-paraguay",
   "metadata": {},
   "outputs": [],
   "source": []
  },
  {
   "cell_type": "code",
   "execution_count": null,
   "id": "positive-principle",
   "metadata": {},
   "outputs": [],
   "source": []
  }
 ],
 "metadata": {
  "kernelspec": {
   "display_name": "Python 3",
   "language": "python",
   "name": "python3"
  },
  "language_info": {
   "codemirror_mode": {
    "name": "ipython",
    "version": 3
   },
   "file_extension": ".py",
   "mimetype": "text/x-python",
   "name": "python",
   "nbconvert_exporter": "python",
   "pygments_lexer": "ipython3",
   "version": "3.6.9"
  }
 },
 "nbformat": 4,
 "nbformat_minor": 5
}
