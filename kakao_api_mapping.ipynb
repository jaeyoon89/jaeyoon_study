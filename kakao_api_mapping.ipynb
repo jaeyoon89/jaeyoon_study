{
 "cells": [
  {
   "cell_type": "markdown",
   "id": "comfortable-connectivity",
   "metadata": {},
   "source": [
    "# 카카오api를 이용한 주소 및 위경도 추출하기"
   ]
  },
  {
   "cell_type": "markdown",
   "id": "historic-humanitarian",
   "metadata": {},
   "source": [
    "## - api란 무엇일까?"
   ]
  },
  {
   "cell_type": "markdown",
   "id": "going-notice",
   "metadata": {},
   "source": [
    "API를 본격적으로 알아보기 전에 우선 점심을 먹으로 레스토랑에 갔다고 가정하자.\n",
    "레스토랑에서 점원은 손님에게 메뉴를 알려주고, 주방에 주문받은 요리를 요청한다. \n",
    "그다음 주방에서 완성된 요리를 손님한테 전달해준다. 여기서 API는 점원과 같은 역할을 한다.\n",
    "API는 손님(프로그램)이 주문할 수 있게 메뉴(명령 목록)를 정리하고, 주문(명령)을 받으면 요리사(응용프로그램)와 상호작용하여 요청된 메뉴(명령에 대한 값)를 전달한다.\n",
    "쉽게 말해, API는 프로그램들이 서로 상호작용하는 것을 도와주는 매개체로 볼 수 있다."
   ]
  },
  {
   "cell_type": "markdown",
   "id": "patent-forth",
   "metadata": {},
   "source": [
    "## - api의 역할은?"
   ]
  },
  {
   "cell_type": "markdown",
   "id": "fallen-content",
   "metadata": {},
   "source": [
    "- 1. API는 서버와 데이터베이스에 대한 출입구 역할을 한다. 데이터베이스에는 모든 정보들이 저장된다. 모든 사람들이 이 데이터베이스에 접근할 수 있으면 안된다. API는 이를 방지하기 위해 여러분이 가진 서버와 데이터베이스에 대한 출입구 역할을 하며, 허용된 사람들에게만 접근성을 부여해준다.\n",
    "\n",
    "- 2. API는 애플리케이션과 기기가 원활하게 통신할 수 있도록 한다. 여기서 애플리케이션이란 우리가 흔히 알고 있는 스마트폰 어플이나 프로그램을 말한다. API는 애플리케이션과 기기가 데이터를 원활히 주고받을 수 있도록 돕는 역할을 한다.\n",
    "\n",
    "- 3. API는 모든 접속을 표준화한다. API는 모든 접속을 표준화하기 때문에 기계 / 운영체제 등과 상관없이 누구나 동일한 액세스를 얻을 수 있다. 쉽게 말해, API는 범용 플러그처럼 작동한다고 볼 수 있다\n",
    "\n",
    " "
   ]
  },
  {
   "cell_type": "markdown",
   "id": "hairy-budget",
   "metadata": {},
   "source": [
    "### 1. api 세팅하기"
   ]
  },
  {
   "cell_type": "code",
   "execution_count": 2,
   "id": "typical-daily",
   "metadata": {},
   "outputs": [],
   "source": [
    "import json\n",
    "import requests"
   ]
  },
  {
   "cell_type": "markdown",
   "id": "subjective-husband",
   "metadata": {},
   "source": [
    "먼저 필요한 모듈을 import 한다. requests는 HTTP를 호출할 때 사용하는 라이브러리이다. JSON은 Key-value를 양식을 가지는 텍스트 파일로 인터넷 상의 서버-클라이언트의 데이터 교환에 많이 사용되고 있다. 최근엔 웹서버와 클라이언트 간의 통신 및 프로그램과 프로그램 사이의 데이터 표현 및 교환하는데 사용된다."
   ]
  },
  {
   "cell_type": "code",
   "execution_count": 3,
   "id": "civil-acrylic",
   "metadata": {},
   "outputs": [],
   "source": [
    "api_key = \"발급받은 api_key 입력\""
   ]
  },
  {
   "cell_type": "markdown",
   "id": "broke-matter",
   "metadata": {},
   "source": [
    "카카오 Rest api 키를 받아 위처럼 입력해준다."
   ]
  },
  {
   "cell_type": "markdown",
   "id": "israeli-overall",
   "metadata": {},
   "source": [
    "### 2. 지리정보 api를 사용해 주소에서 위경도 추출하기"
   ]
  },
  {
   "cell_type": "markdown",
   "id": "negative-permit",
   "metadata": {},
   "source": [
    "이제 GET()함수를 통해 다음과 같이 api를 호출하자. 주소는 남산을 선택했으며 남산의 주소를 검색 결과 “서울 중구 회현동1가”로 나오게 되어 이곳의 위경도를 추출하려고 한다. api문서에서는 다음에 위치 한다."
   ]
  },
  {
   "cell_type": "markdown",
   "id": "referenced-franklin",
   "metadata": {},
   "source": [
    "- [개발가이드 - 좌표로 주소 변환하기](https://developers.kakao.com/docs/latest/ko/local/dev-guide#address-coord)"
   ]
  },
  {
   "cell_type": "code",
   "execution_count": 4,
   "id": "distinct-immunology",
   "metadata": {},
   "outputs": [],
   "source": [
    "def addr_to_lat_lon(addr):\n",
    "    url = 'https://dapi.kakao.com/v2/local/search/address.json?query={address}'.format(address=addr)\n",
    "    headers = {\"Authorization\": \"KakaoAK \" + api_key}\n",
    "    result = json.loads(str(requests.get(url, headers=headers).text))\n",
    "    match_first = result['documents'][0]['address']\n",
    "    return float(match_first['x']), float(match_first['y'])"
   ]
  },
  {
   "cell_type": "markdown",
   "id": "breeding-university",
   "metadata": {},
   "source": [
    "이렇게 만든 addr_to_lat_lon 함수를 이용해 남산의 위경도를 추출하자."
   ]
  },
  {
   "cell_type": "code",
   "execution_count": 5,
   "id": "sound-shore",
   "metadata": {},
   "outputs": [
    {
     "data": {
      "text/plain": [
       "(126.981204133005, 37.5555892070291)"
      ]
     },
     "execution_count": 5,
     "metadata": {},
     "output_type": "execute_result"
    }
   ],
   "source": [
    "addr_to_lat_lon('서울 중구 회현동1가')"
   ]
  },
  {
   "cell_type": "markdown",
   "id": "isolated-technique",
   "metadata": {},
   "source": [
    "### 3. 지리정보 api를 사용해 위경도에서 주소 추출하기"
   ]
  },
  {
   "cell_type": "markdown",
   "id": "exempt-electricity",
   "metadata": {},
   "source": [
    "이번엔 반대로 위경도를 이용해 주소를 추출해보자. 앞서 남산의 위경도를 구했으니 이를 그대로 이용해보자."
   ]
  },
  {
   "cell_type": "markdown",
   "id": "facial-burner",
   "metadata": {},
   "source": [
    "- [개발가이드 - 좌표로 주소 변환하기](https://developers.kakao.com/docs/latest/ko/local/dev-guide#coord-to-address)"
   ]
  },
  {
   "cell_type": "code",
   "execution_count": 6,
   "id": "color-rugby",
   "metadata": {},
   "outputs": [],
   "source": [
    "def lat_lon_to_addr(lon,lat):\n",
    "    url = 'https://dapi.kakao.com/v2/local/geo/coord2regioncode.json?x={longitude}&y={latitude}'.format(longitude=lon,latitude=lat)\n",
    "    headers = {\"Authorization\": \"KakaoAK \" + api_key}\n",
    "    result = json.loads(str(requests.get(url, headers=headers).text))\n",
    "    match_first = result['documents'][0]['address_name']\n",
    "    return str(match_first)"
   ]
  },
  {
   "cell_type": "markdown",
   "id": "designed-klein",
   "metadata": {},
   "source": [
    "이렇게 만든 lat_lon_to_addr 함수를 이용해 남산의 위경도를 추출하면 다음과 같이 주소가 출력된다."
   ]
  },
  {
   "cell_type": "code",
   "execution_count": 7,
   "id": "talented-relation",
   "metadata": {},
   "outputs": [
    {
     "data": {
      "text/plain": [
       "'서울특별시 중구 회현동1가'"
      ]
     },
     "execution_count": 7,
     "metadata": {},
     "output_type": "execute_result"
    }
   ],
   "source": [
    "lat_lon_to_addr(126.981204133005, 37.5555892070291)"
   ]
  },
  {
   "cell_type": "markdown",
   "id": "gross-doctrine",
   "metadata": {},
   "source": [
    "출처 : [미완성의 신 블로그 - 카카오 API를 사용한 주소/위경도 추출](https://unfinishedgod.netlify.app/2021/04/28/python-%EC%B9%B4%EC%B9%B4%EC%98%A4-api%EB%A5%BC-%EC%82%AC%EC%9A%A9%ED%95%9C-%EC%A3%BC%EC%86%8C-%EC%9C%84%EA%B2%BD%EB%8F%84-%EC%B6%94%EC%B6%9C/)"
   ]
  }
 ],
 "metadata": {
  "kernelspec": {
   "display_name": "Python 3",
   "language": "python",
   "name": "python3"
  },
  "language_info": {
   "codemirror_mode": {
    "name": "ipython",
    "version": 3
   },
   "file_extension": ".py",
   "mimetype": "text/x-python",
   "name": "python",
   "nbconvert_exporter": "python",
   "pygments_lexer": "ipython3",
   "version": "3.6.9"
  }
 },
 "nbformat": 4,
 "nbformat_minor": 5
}
