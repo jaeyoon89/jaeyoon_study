{
 "cells": [
  {
   "cell_type": "markdown",
   "id": "mounted-gabriel",
   "metadata": {},
   "source": [
    "# 1.테슬라 주가 분석하기"
   ]
  },
  {
   "cell_type": "markdown",
   "id": "accessible-glance",
   "metadata": {},
   "source": [
    "이번엔 테슬라 주가에 대한 분석을 해보려고 한다. 주가처럼 연속적인 시간에 따라 다르게 측정되는 데이터를 시계열 데이터라 하며, 이를 분석하는 것을 '시계열 데이터 분석' 이라고 한다. "
   ]
  },
  {
   "cell_type": "markdown",
   "id": "indian-orange",
   "metadata": {},
   "source": [
    "### step.1 탐색: 날짜 정보가 포함된 데이터 살펴보기"
   ]
  },
  {
   "cell_type": "markdown",
   "id": "august-fiber",
   "metadata": {},
   "source": [
    "데이터 출처 : 야후 파이낸스 (https://finance.yahoo.com/), 이것이 데이터 분석이다.(3-2 비트코인 시세분석 참조)\n"
   ]
  },
  {
   "cell_type": "code",
   "execution_count": 2,
   "id": "pursuant-information",
   "metadata": {},
   "outputs": [],
   "source": [
    "%matplotlib inline\n",
    "\n",
    "import pandas as pd\n",
    "import numpy as np\n",
    "import matplotlib.pyplot as plt\n",
    "import yfinance as yf"
   ]
  },
  {
   "cell_type": "markdown",
   "id": "protecting-maker",
   "metadata": {},
   "source": [
    "분석에 필요한 라이브러리를 불러온다. 주가 분석을 위한 데이터는 주가 변동이 컸었던 2019-01-1부터 2021-03-31까지만 불러왔다."
   ]
  },
  {
   "cell_type": "code",
   "execution_count": 3,
   "id": "funky-adventure",
   "metadata": {},
   "outputs": [
    {
     "data": {
      "image/png": "[encoded data removed]",
      "text/plain": [
       "<Figure size 432x288 with 1 Axes>"
      ]
     },
     "metadata": {
      "needs_background": "light"
     },
     "output_type": "display_data"
    }
   ],
   "source": [
    "tsla_df = yf.download('TSLA', \n",
    "                      start='2019-01-01', \n",
    "                      end='2021-03-31', \n",
    "                      progress=False)\n",
    "tsla_df\n",
    "\n",
    "\n",
    "\n",
    "tsla_df= tsla_df[[\"Open\", \"High\", \"Low\", \"Close\", \"Adj Close\"]]\n",
    "\n",
    "\n",
    "tsla_df.plot()\n",
    "plt.show()"
   ]
  },
  {
   "cell_type": "code",
   "execution_count": 4,
   "id": "elder-tonight",
   "metadata": {},
   "outputs": [
    {
     "name": "stdout",
     "output_type": "stream",
     "text": [
      "(566, 5)\n",
      "<class 'pandas.core.frame.DataFrame'>\n",
      "DatetimeIndex: 566 entries, 2018-12-31 to 2021-03-30\n",
      "Data columns (total 5 columns):\n",
      " #   Column     Non-Null Count  Dtype  \n",
      "---  ------     --------------  -----  \n",
      " 0   Open       566 non-null    float64\n",
      " 1   High       566 non-null    float64\n",
      " 2   Low        566 non-null    float64\n",
      " 3   Close      566 non-null    float64\n",
      " 4   Adj Close  566 non-null    float64\n",
      "dtypes: float64(5)\n",
      "memory usage: 26.5 KB\n",
      "None\n"
     ]
    },
    {
     "data": {
      "text/html": [
       "<div>\n",
       "<style scoped>\n",
       "    .dataframe tbody tr th:only-of-type {\n",
       "        vertical-align: middle;\n",
       "    }\n",
       "\n",
       "    .dataframe tbody tr th {\n",
       "        vertical-align: top;\n",
       "    }\n",
       "\n",
       "    .dataframe thead th {\n",
       "        text-align: right;\n",
       "    }\n",
       "</style>\n",
       "<table border=\"1\" class=\"dataframe\">\n",
       "  <thead>\n",
       "    <tr style=\"text-align: right;\">\n",
       "      <th></th>\n",
       "      <th>Open</th>\n",
       "      <th>High</th>\n",
       "      <th>Low</th>\n",
       "      <th>Close</th>\n",
       "      <th>Adj Close</th>\n",
       "    </tr>\n",
       "    <tr>\n",
       "      <th>Date</th>\n",
       "      <th></th>\n",
       "      <th></th>\n",
       "      <th></th>\n",
       "      <th></th>\n",
       "      <th></th>\n",
       "    </tr>\n",
       "  </thead>\n",
       "  <tbody>\n",
       "    <tr>\n",
       "      <th>2021-03-24</th>\n",
       "      <td>667.909973</td>\n",
       "      <td>668.020020</td>\n",
       "      <td>630.109985</td>\n",
       "      <td>630.270020</td>\n",
       "      <td>630.270020</td>\n",
       "    </tr>\n",
       "    <tr>\n",
       "      <th>2021-03-25</th>\n",
       "      <td>613.000000</td>\n",
       "      <td>645.500000</td>\n",
       "      <td>609.500000</td>\n",
       "      <td>640.390015</td>\n",
       "      <td>640.390015</td>\n",
       "    </tr>\n",
       "    <tr>\n",
       "      <th>2021-03-26</th>\n",
       "      <td>641.869995</td>\n",
       "      <td>643.820007</td>\n",
       "      <td>599.890015</td>\n",
       "      <td>618.710022</td>\n",
       "      <td>618.710022</td>\n",
       "    </tr>\n",
       "    <tr>\n",
       "      <th>2021-03-29</th>\n",
       "      <td>615.640015</td>\n",
       "      <td>616.479980</td>\n",
       "      <td>596.020020</td>\n",
       "      <td>611.289978</td>\n",
       "      <td>611.289978</td>\n",
       "    </tr>\n",
       "    <tr>\n",
       "      <th>2021-03-30</th>\n",
       "      <td>601.750000</td>\n",
       "      <td>637.659973</td>\n",
       "      <td>591.010010</td>\n",
       "      <td>635.619995</td>\n",
       "      <td>635.619995</td>\n",
       "    </tr>\n",
       "  </tbody>\n",
       "</table>\n",
       "</div>"
      ],
      "text/plain": [
       "                  Open        High         Low       Close   Adj Close\n",
       "Date                                                                  \n",
       "2021-03-24  667.909973  668.020020  630.109985  630.270020  630.270020\n",
       "2021-03-25  613.000000  645.500000  609.500000  640.390015  640.390015\n",
       "2021-03-26  641.869995  643.820007  599.890015  618.710022  618.710022\n",
       "2021-03-29  615.640015  616.479980  596.020020  611.289978  611.289978\n",
       "2021-03-30  601.750000  637.659973  591.010010  635.619995  635.619995"
      ]
     },
     "execution_count": 4,
     "metadata": {},
     "output_type": "execute_result"
    }
   ],
   "source": [
    "print(tsla_df.shape)\n",
    "print(tsla_df.info())\n",
    "tsla_df.tail()"
   ]
  },
  {
   "cell_type": "markdown",
   "id": "sacred-hollow",
   "metadata": {},
   "source": [
    "우선 테슬라 주가 데이터를 탐색하자. 위 결과와 같이 Open,High,Low,Close, Adj Close 총 5개의 피처로 구성되어 있다."
   ]
  },
  {
   "cell_type": "markdown",
   "id": "italian-academy",
   "metadata": {},
   "source": [
    "데이터를 확인해 보면 총 5개의 컬럼으로 구성되어 있는데 이번시간에는 High 즉 하루 중 주가가 가장 높았었던 데이터로 예측 분석을 해보려고 한다."
   ]
  },
  {
   "cell_type": "markdown",
   "id": "english-nomination",
   "metadata": {},
   "source": [
    "### step.2 예측: 파이썬 라이브러리를 활용해 시세 예측하기\n",
    "\n",
    "\n",
    "\n",
    "이번 절에서 첫 번째로 사용할 시계열 예측 분석 방법은 ARIMA 분석 방법이다. ARIMA는 전통적인 시계열 예측 방법으로 크게 두 가지 개념을 포함하고 있다. 첫 번째는 AR모델로 자기 자신의 과거를 정보로 사용하는 것이다. 두 번째 개념은 MA모델로 '이전 항에서의 오차를 이용하여 현재 항의 상태를 추론하겠다' 라는 방법이다. 그리고 이 둘을 합친 것을 ARMA 모델이라고 하며, 조금 더 나아간 ARIMA 모델은 ARMA 모델에 추세 변동의 경향성까지 반영한 방법이다."
   ]
  },
  {
   "cell_type": "code",
   "execution_count": 10,
   "id": "northern-participation",
   "metadata": {},
   "outputs": [
    {
     "name": "stderr",
     "output_type": "stream",
     "text": [
      "/home/jaeyoon89/.local/lib/python3.6/site-packages/statsmodels/tsa/arima_model.py:472: FutureWarning: \n",
      "statsmodels.tsa.arima_model.ARMA and statsmodels.tsa.arima_model.ARIMA have\n",
      "been deprecated in favor of statsmodels.tsa.arima.model.ARIMA (note the .\n",
      "between arima and model) and\n",
      "statsmodels.tsa.SARIMAX. These will be removed after the 0.12 release.\n",
      "\n",
      "statsmodels.tsa.arima.model.ARIMA makes use of the statespace framework and\n",
      "is both well tested and maintained.\n",
      "\n",
      "To silence this warning and continue using ARMA and ARIMA until they are\n",
      "removed, use:\n",
      "\n",
      "import warnings\n",
      "warnings.filterwarnings('ignore', 'statsmodels.tsa.arima_model.ARMA',\n",
      "                        FutureWarning)\n",
      "warnings.filterwarnings('ignore', 'statsmodels.tsa.arima_model.ARIMA',\n",
      "                        FutureWarning)\n",
      "\n",
      "  warnings.warn(ARIMA_DEPRECATION_WARN, FutureWarning)\n"
     ]
    },
    {
     "name": "stdout",
     "output_type": "stream",
     "text": [
      "                             ARIMA Model Results                              \n",
      "==============================================================================\n",
      "Dep. Variable:                    D.y   No. Observations:                  565\n",
      "Model:                 ARIMA(2, 1, 2)   Log Likelihood               -2248.038\n",
      "Method:                       css-mle   S.D. of innovations             12.930\n",
      "Date:                Tue, 20 Apr 2021   AIC                           4508.077\n",
      "Time:                        19:25:35   BIC                           4534.098\n",
      "Sample:                             1   HQIC                          4518.233\n",
      "                                                                              \n",
      "==============================================================================\n",
      "                 coef    std err          z      P>|z|      [0.025      0.975]\n",
      "------------------------------------------------------------------------------\n",
      "const          1.0084      0.556      1.814      0.070      -0.081       2.098\n",
      "ar.L1.D.y     -1.0444      0.049    -21.205      0.000      -1.141      -0.948\n",
      "ar.L2.D.y     -0.9208      0.051    -18.002      0.000      -1.021      -0.821\n",
      "ma.L1.D.y      1.1027      0.042     26.545      0.000       1.021       1.184\n",
      "ma.L2.D.y      0.9268      0.051     18.070      0.000       0.826       1.027\n",
      "                                    Roots                                    \n",
      "=============================================================================\n",
      "                  Real          Imaginary           Modulus         Frequency\n",
      "-----------------------------------------------------------------------------\n",
      "AR.1           -0.5671           -0.8743j            1.0421           -0.3416\n",
      "AR.2           -0.5671           +0.8743j            1.0421            0.3416\n",
      "MA.1           -0.5949           -0.8515j            1.0387           -0.3470\n",
      "MA.2           -0.5949           +0.8515j            1.0387            0.3470\n",
      "-----------------------------------------------------------------------------\n"
     ]
    },
    {
     "name": "stderr",
     "output_type": "stream",
     "text": [
      "/home/jaeyoon89/.local/lib/python3.6/site-packages/statsmodels/tsa/arima_model.py:472: FutureWarning: \n",
      "statsmodels.tsa.arima_model.ARMA and statsmodels.tsa.arima_model.ARIMA have\n",
      "been deprecated in favor of statsmodels.tsa.arima.model.ARIMA (note the .\n",
      "between arima and model) and\n",
      "statsmodels.tsa.SARIMAX. These will be removed after the 0.12 release.\n",
      "\n",
      "statsmodels.tsa.arima.model.ARIMA makes use of the statespace framework and\n",
      "is both well tested and maintained.\n",
      "\n",
      "To silence this warning and continue using ARMA and ARIMA until they are\n",
      "removed, use:\n",
      "\n",
      "import warnings\n",
      "warnings.filterwarnings('ignore', 'statsmodels.tsa.arima_model.ARMA',\n",
      "                        FutureWarning)\n",
      "warnings.filterwarnings('ignore', 'statsmodels.tsa.arima_model.ARIMA',\n",
      "                        FutureWarning)\n",
      "\n",
      "  warnings.warn(ARIMA_DEPRECATION_WARN, FutureWarning)\n"
     ]
    }
   ],
   "source": [
    "from statsmodels.tsa.arima_model import ARIMA\n",
    "import statsmodels.api as sm\n",
    "\n",
    "model = ARIMA(tsla_df.High.values, order=(2,1,2))\n",
    "model_fit = model.fit(trend='c', full_output=True, disp=True)\n",
    "print(model_fit.summary())"
   ]
  },
  {
   "cell_type": "code",
   "execution_count": null,
   "id": "brilliant-permission",
   "metadata": {},
   "outputs": [],
   "source": []
  }
 ],
 "metadata": {
  "kernelspec": {
   "display_name": "Python 3",
   "language": "python",
   "name": "python3"
  },
  "language_info": {
   "codemirror_mode": {
    "name": "ipython",
    "version": 3
   },
   "file_extension": ".py",
   "mimetype": "text/x-python",
   "name": "python",
   "nbconvert_exporter": "python",
   "pygments_lexer": "ipython3",
   "version": "3.6.9"
  }
 },
 "nbformat": 4,
 "nbformat_minor": 5
}
